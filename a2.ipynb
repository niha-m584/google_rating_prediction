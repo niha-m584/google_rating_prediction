{
 "cells": [
  {
   "cell_type": "code",
   "execution_count": 1,
   "id": "5582beb9",
   "metadata": {},
   "outputs": [],
   "source": [
    "import gzip\n",
    "import zipfile\n",
    "import json\n",
    "from collections import defaultdict\n",
    "import math\n",
    "import scipy.optimize\n",
    "from sklearn import svm\n",
    "import numpy as np\n",
    "import pandas as pd\n",
    "import string\n",
    "import random\n",
    "import string\n",
    "from sklearn import linear_model\n",
    "import matplotlib.pyplot as plt\n",
    "from implicit.bpr import BayesianPersonalizedRanking\n",
    "from implicit.als import AlternatingLeastSquares\n",
    "from sklearn.model_selection import train_test_split\n",
    "from scipy.sparse import coo_matrix, csr_matrix"
   ]
  },
  {
   "cell_type": "code",
   "execution_count": 2,
   "id": "ea6731d7",
   "metadata": {
    "scrolled": true
   },
   "outputs": [
    {
     "name": "stderr",
     "output_type": "stream",
     "text": [
      "IOPub data rate exceeded.\n",
      "The notebook server will temporarily stop sending output\n",
      "to the client in order to avoid crashing it.\n",
      "To change this limit, set the config variable\n",
      "`--NotebookApp.iopub_data_rate_limit`.\n",
      "\n",
      "Current values:\n",
      "NotebookApp.iopub_data_rate_limit=1000000.0 (bytes/sec)\n",
      "NotebookApp.rate_limit_window=3.0 (secs)\n",
      "\n"
     ]
    }
   ],
   "source": [
    "import json\n",
    " \n",
    "filter_path = 'data/filter_all_t.json'\n",
    " \n",
    "# Open and read the entire content of the JSON file\n",
    "with open(filter_path, 'r') as json_file:\n",
    "    filter_data_single_line = json_file.read()\n",
    " \n",
    "# Parse the JSON data\n",
    "try:\n",
    "    json_filter_data = json.loads(filter_data_single_line)\n",
    "    # Now you can work with the parsed JSON data\n",
    "    print(json_filter_data)\n",
    "except json.JSONDecodeError as err:\n",
    "    print(f'Error decoding JSON: {err}')\n",
    "    "
   ]
  },
  {
   "cell_type": "code",
   "execution_count": 3,
   "id": "9394e34e",
   "metadata": {},
   "outputs": [],
   "source": [
    "imagerev_path = 'data/image_review_all.json'"
   ]
  },
  {
   "cell_type": "code",
   "execution_count": 4,
   "id": "81c12844",
   "metadata": {},
   "outputs": [],
   "source": [
    "def getjson2(fname, maxno=-1):\n",
    "    data_list = list()\n",
    "    no = 0\n",
    "    with open(fname, 'r') as json_file:\n",
    "        for line_number, line in enumerate(json_file,1):\n",
    "            try:\n",
    "                imagerev_data = json.loads(line)\n",
    "                data_list.append(imagerev_data)\n",
    "                no += 1\n",
    "                if (maxno > -1) & (no >= maxno):\n",
    "                    break\n",
    "            except json.JSONDecodeError as err:\n",
    "                print(f'Error decoding JSON: {err}')\n",
    "        return data_list"
   ]
  },
  {
   "cell_type": "code",
   "execution_count": 5,
   "id": "8bacc669",
   "metadata": {},
   "outputs": [],
   "source": [
    "data = getjson2(imagerev_path)"
   ]
  },
  {
   "cell_type": "markdown",
   "id": "8d3585f9",
   "metadata": {},
   "source": [
    "# Baseline"
   ]
  },
  {
   "cell_type": "code",
   "execution_count": 6,
   "id": "adff4b2b",
   "metadata": {},
   "outputs": [],
   "source": [
    "df = pd.DataFrame(data)"
   ]
  },
  {
   "cell_type": "code",
   "execution_count": 7,
   "id": "0066727f",
   "metadata": {},
   "outputs": [],
   "source": [
    "business_means = df.groupby('business_id')['rating'].mean()"
   ]
  },
  {
   "cell_type": "code",
   "execution_count": 8,
   "id": "88601686",
   "metadata": {},
   "outputs": [],
   "source": [
    "ids = df['business_id']"
   ]
  },
  {
   "cell_type": "code",
   "execution_count": 9,
   "id": "2486810b",
   "metadata": {},
   "outputs": [],
   "source": [
    "preds = [round(business_means[id]) for id in ids]\n",
    "y = df['rating']"
   ]
  },
  {
   "cell_type": "code",
   "execution_count": 10,
   "id": "c73be077",
   "metadata": {},
   "outputs": [],
   "source": [
    "correct = preds == y\n",
    "accuracy = sum(correct) / len(correct)"
   ]
  },
  {
   "cell_type": "code",
   "execution_count": 11,
   "id": "a9cab39f",
   "metadata": {},
   "outputs": [
    {
     "name": "stdout",
     "output_type": "stream",
     "text": [
      "0.5489589291727693\n"
     ]
    }
   ],
   "source": [
    "print(accuracy)"
   ]
  },
  {
   "cell_type": "markdown",
   "id": "b6598b1a",
   "metadata": {},
   "source": [
    "# Model"
   ]
  },
  {
   "cell_type": "code",
   "execution_count": 12,
   "id": "eda96120",
   "metadata": {},
   "outputs": [],
   "source": [
    "users = df.groupby('user_id')[['rating']].mean().reset_index().reset_index().set_index('user_id')"
   ]
  },
  {
   "cell_type": "code",
   "execution_count": 13,
   "id": "5b673865",
   "metadata": {},
   "outputs": [],
   "source": [
    "df['u_index'] = df['user_id'].apply(lambda x: users.loc[x]['index'].astype(np.int32))"
   ]
  },
  {
   "cell_type": "code",
   "execution_count": 14,
   "id": "be6f4c39",
   "metadata": {},
   "outputs": [],
   "source": [
    "businesses = pd.DataFrame(business_means).reset_index().reset_index().set_index('business_id')"
   ]
  },
  {
   "cell_type": "code",
   "execution_count": 15,
   "id": "d0b68844",
   "metadata": {},
   "outputs": [],
   "source": [
    "df['b_index'] = df['business_id'].apply(lambda x: businesses.loc[x]['index'].astype(np.int32))"
   ]
  },
  {
   "cell_type": "code",
   "execution_count": 50,
   "id": "b5b58c93",
   "metadata": {},
   "outputs": [],
   "source": [
    "#split data\n",
    "train, test = train_test_split(df, test_size=0.25, random_state=100)\n",
    "\n",
    "#create sparse matrix\n",
    "matrix = csr_matrix(\n",
    "    (train['rating'].astype(np.float32),\n",
    "    (train['u_index'], train['b_index'])),\n",
    "    shape=(len(users), len(businesses)\n",
    "))"
   ]
  },
  {
   "cell_type": "code",
   "execution_count": 32,
   "id": "521cbe70",
   "metadata": {},
   "outputs": [
    {
     "name": "stderr",
     "output_type": "stream",
     "text": [
      "/Users/William/anaconda3/lib/python3.11/site-packages/implicit/cpu/als.py:95: RuntimeWarning: OpenBLAS is configured to use 8 threads. It is highly recommended to disable its internal threadpool by setting the environment variable 'OPENBLAS_NUM_THREADS=1' or by calling 'threadpoolctl.threadpool_limits(1, \"blas\")'. Having OpenBLAS use a threadpool can lead to severe performance issues here.\n",
      "  check_blas_config()\n"
     ]
    },
    {
     "data": {
      "application/vnd.jupyter.widget-view+json": {
       "model_id": "d0c2cf19cc9d4727a88c0b270fed1d4d",
       "version_major": 2,
       "version_minor": 0
      },
      "text/plain": [
       "  0%|          | 0/15 [00:00<?, ?it/s]"
      ]
     },
     "metadata": {},
     "output_type": "display_data"
    }
   ],
   "source": [
    "model = AlternatingLeastSquares()\n",
    "model.fit(matrix)"
   ]
  },
  {
   "cell_type": "code",
   "execution_count": 33,
   "id": "87a6e758",
   "metadata": {},
   "outputs": [],
   "source": [
    "user_indices = test['u_index'].unique()\n",
    "business_indices = test['b_index'].unique()"
   ]
  },
  {
   "cell_type": "code",
   "execution_count": 44,
   "id": "67028924",
   "metadata": {},
   "outputs": [
    {
     "data": {
      "text/plain": [
       "<64527x868937 sparse matrix of type '<class 'numpy.float32'>'\n",
       "\twith 1115810 stored elements in Compressed Sparse Column format>"
      ]
     },
     "execution_count": 44,
     "metadata": {},
     "output_type": "execute_result"
    }
   ],
   "source": [
    "matrix.T"
   ]
  },
  {
   "cell_type": "code",
   "execution_count": 55,
   "id": "430de647",
   "metadata": {},
   "outputs": [
    {
     "data": {
      "text/plain": [
       "<868937x64527 sparse matrix of type '<class 'numpy.float32'>'\n",
       "\twith 1115810 stored elements in Compressed Sparse Row format>"
      ]
     },
     "execution_count": 55,
     "metadata": {},
     "output_type": "execute_result"
    }
   ],
   "source": [
    "matrix"
   ]
  },
  {
   "cell_type": "code",
   "execution_count": 54,
   "id": "ded06d28",
   "metadata": {},
   "outputs": [
    {
     "ename": "ValueError",
     "evalue": "user_items needs to be a CSR sparse matrix",
     "output_type": "error",
     "traceback": [
      "\u001b[0;31m---------------------------------------------------------------------------\u001b[0m",
      "\u001b[0;31mValueError\u001b[0m                                Traceback (most recent call last)",
      "Cell \u001b[0;32mIn[54], line 2\u001b[0m\n\u001b[1;32m      1\u001b[0m N \u001b[38;5;241m=\u001b[39m \u001b[38;5;28mlen\u001b[39m(business_indices)\n\u001b[0;32m----> 2\u001b[0m recommendations \u001b[38;5;241m=\u001b[39m model\u001b[38;5;241m.\u001b[39mrecommend(user_indices[\u001b[38;5;241m0\u001b[39m], user_items\u001b[38;5;241m=\u001b[39mmatrix\u001b[38;5;241m.\u001b[39mT, N\u001b[38;5;241m=\u001b[39mN)\n\u001b[1;32m      4\u001b[0m predicted_business_indices, predicted_scores \u001b[38;5;241m=\u001b[39m \u001b[38;5;28mzip\u001b[39m(\u001b[38;5;241m*\u001b[39mrecommendations)\n\u001b[1;32m      6\u001b[0m predicted_ratings \u001b[38;5;241m=\u001b[39m np\u001b[38;5;241m.\u001b[39mzeros_like(business_indices, dtype\u001b[38;5;241m=\u001b[39m\u001b[38;5;28mfloat\u001b[39m)\n",
      "File \u001b[0;32m~/anaconda3/lib/python3.11/site-packages/implicit/cpu/matrix_factorization_base.py:46\u001b[0m, in \u001b[0;36mMatrixFactorizationBase.recommend\u001b[0;34m(self, userid, user_items, N, filter_already_liked_items, filter_items, recalculate_user, items)\u001b[0m\n\u001b[1;32m     44\u001b[0m \u001b[38;5;28;01mif\u001b[39;00m filter_already_liked_items \u001b[38;5;129;01mor\u001b[39;00m recalculate_user:\n\u001b[1;32m     45\u001b[0m     \u001b[38;5;28;01mif\u001b[39;00m \u001b[38;5;129;01mnot\u001b[39;00m \u001b[38;5;28misinstance\u001b[39m(user_items, csr_matrix):\n\u001b[0;32m---> 46\u001b[0m         \u001b[38;5;28;01mraise\u001b[39;00m \u001b[38;5;167;01mValueError\u001b[39;00m(\u001b[38;5;124m\"\u001b[39m\u001b[38;5;124muser_items needs to be a CSR sparse matrix\u001b[39m\u001b[38;5;124m\"\u001b[39m)\n\u001b[1;32m     47\u001b[0m     user_count \u001b[38;5;241m=\u001b[39m \u001b[38;5;241m1\u001b[39m \u001b[38;5;28;01mif\u001b[39;00m np\u001b[38;5;241m.\u001b[39misscalar(userid) \u001b[38;5;28;01melse\u001b[39;00m \u001b[38;5;28mlen\u001b[39m(userid)\n\u001b[1;32m     48\u001b[0m     \u001b[38;5;28;01mif\u001b[39;00m user_items\u001b[38;5;241m.\u001b[39mshape[\u001b[38;5;241m0\u001b[39m] \u001b[38;5;241m!=\u001b[39m user_count:\n",
      "\u001b[0;31mValueError\u001b[0m: user_items needs to be a CSR sparse matrix"
     ]
    }
   ],
   "source": [
    "N = len(business_indices)\n",
    "recommendations = model.recommend(user_indices[0], user_items=matrix.T, N=N)\n",
    "\n",
    "predicted_business_indices, predicted_scores = zip(*recommendations)\n",
    "\n",
    "predicted_ratings = np.zeros_like(business_indices, dtype=float)\n",
    "\n",
    "predicted_ratings[np.array(predicted_business_indices)] = predicted_scores"
   ]
  },
  {
   "cell_type": "code",
   "execution_count": null,
   "id": "fd3c3407",
   "metadata": {},
   "outputs": [],
   "source": [
    "preds = predictions.flatten()"
   ]
  },
  {
   "cell_type": "code",
   "execution_count": null,
   "id": "7583eca4",
   "metadata": {},
   "outputs": [],
   "source": [
    "actual = test_matrix.data"
   ]
  },
  {
   "cell_type": "code",
   "execution_count": 45,
   "id": "5725b8bb",
   "metadata": {},
   "outputs": [],
   "source": [
    "from surprise import Dataset, Reader\n",
    "from surprise.model_selection import train_test_split\n",
    "from surprise import SVD\n",
    "from surprise import accuracy\n",
    "from surprise.model_selection import GridSearchCV"
   ]
  },
  {
   "cell_type": "code",
   "execution_count": 16,
   "id": "68d102e4",
   "metadata": {},
   "outputs": [],
   "source": [
    "reader = Reader(rating_scale=(1, 5))\n",
    "data = Dataset.load_from_df(df[['user_id', 'business_id', 'rating']], reader)\n",
    "\n",
    "trainset, testset = train_test_split(data, test_size=0.25, random_state=100)"
   ]
  },
  {
   "cell_type": "code",
   "execution_count": 17,
   "id": "57728792",
   "metadata": {},
   "outputs": [
    {
     "data": {
      "text/plain": [
       "<surprise.prediction_algorithms.matrix_factorization.SVD at 0x2fe8cf290>"
      ]
     },
     "execution_count": 17,
     "metadata": {},
     "output_type": "execute_result"
    }
   ],
   "source": [
    "model = SVD()\n",
    "model.fit(trainset)"
   ]
  },
  {
   "cell_type": "code",
   "execution_count": 18,
   "id": "3a4e7692",
   "metadata": {},
   "outputs": [],
   "source": [
    "predictions = model.test(testset)"
   ]
  },
  {
   "cell_type": "code",
   "execution_count": 19,
   "id": "5ef7c794",
   "metadata": {},
   "outputs": [
    {
     "name": "stdout",
     "output_type": "stream",
     "text": [
      "MSE: 0.8988\n",
      "Mean Squared Error: 0.8988260265913174\n"
     ]
    }
   ],
   "source": [
    "mse = accuracy.mse(predictions)\n",
    "print(f'Mean Squared Error: {mse}')"
   ]
  },
  {
   "cell_type": "code",
   "execution_count": 22,
   "id": "1aae23c4",
   "metadata": {},
   "outputs": [],
   "source": [
    "preds_ratings = [round(pred.est) for pred in predictions]"
   ]
  },
  {
   "cell_type": "code",
   "execution_count": 54,
   "id": "37d19188",
   "metadata": {},
   "outputs": [],
   "source": [
    "test_ratings = np.array([x[2] for x in testset])"
   ]
  },
  {
   "cell_type": "code",
   "execution_count": 41,
   "id": "c4ed9888",
   "metadata": {},
   "outputs": [],
   "source": [
    "correct = np.array(preds_ratings) == np.array(test_ratings)\n",
    "accuracy = sum(correct) / len(correct)"
   ]
  },
  {
   "cell_type": "code",
   "execution_count": 42,
   "id": "05a943c3",
   "metadata": {},
   "outputs": [
    {
     "name": "stdout",
     "output_type": "stream",
     "text": [
      "0.5376582593288648\n"
     ]
    }
   ],
   "source": [
    "print(accuracy)"
   ]
  },
  {
   "cell_type": "code",
   "execution_count": null,
   "id": "83a0b6e5",
   "metadata": {},
   "outputs": [],
   "source": []
  }
 ],
 "metadata": {
  "kernelspec": {
   "display_name": "Python 3 (ipykernel)",
   "language": "python",
   "name": "python3"
  },
  "language_info": {
   "codemirror_mode": {
    "name": "ipython",
    "version": 3
   },
   "file_extension": ".py",
   "mimetype": "text/x-python",
   "name": "python",
   "nbconvert_exporter": "python",
   "pygments_lexer": "ipython3",
   "version": "3.11.5"
  }
 },
 "nbformat": 4,
 "nbformat_minor": 5
}
