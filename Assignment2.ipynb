{
 "cells": [
  {
   "cell_type": "code",
   "execution_count": 1,
   "id": "6c731a92",
   "metadata": {},
   "outputs": [],
   "source": [
    "import gzip\n",
    "import zipfile\n",
    "import json\n",
    "from collections import defaultdict\n",
    "import math\n",
    "import scipy.optimize\n",
    "from sklearn import svm\n",
    "import numpy as np\n",
    "import pandas as pd\n",
    "import string\n",
    "import random\n",
    "import string\n",
    "from sklearn import linear_model\n",
    "import matplotlib.pyplot as plt\n",
    "path = \"C://niha//cse158//data\""
   ]
  },
  {
   "cell_type": "code",
   "execution_count": 2,
   "id": "677f12d4",
   "metadata": {
    "scrolled": true
   },
   "outputs": [
    {
     "name": "stderr",
     "output_type": "stream",
     "text": [
      "IOPub data rate exceeded.\n",
      "The notebook server will temporarily stop sending output\n",
      "to the client in order to avoid crashing it.\n",
      "To change this limit, set the config variable\n",
      "`--NotebookApp.iopub_data_rate_limit`.\n",
      "\n",
      "Current values:\n",
      "NotebookApp.iopub_data_rate_limit=1000000.0 (bytes/sec)\n",
      "NotebookApp.rate_limit_window=3.0 (secs)\n",
      "\n"
     ]
    }
   ],
   "source": [
    "import json\n",
    " \n",
    "filter_path = path+'//filter_all_t.json'\n",
    " \n",
    "# Open and read the entire content of the JSON file\n",
    "with open(filter_path, 'r') as json_file:\n",
    "    filter_data_single_line = json_file.read()\n",
    " \n",
    "# Parse the JSON data\n",
    "try:\n",
    "    json_filter_data = json.loads(filter_data_single_line)\n",
    "    # Now you can work with the parsed JSON data\n",
    "    print(json_filter_data)\n",
    "except json.JSONDecodeError as err:\n",
    "    print(f'Error decoding JSON: {err}')\n",
    "    "
   ]
  },
  {
   "cell_type": "code",
   "execution_count": 3,
   "id": "333b6c6f",
   "metadata": {},
   "outputs": [],
   "source": [
    "imagerev_path = path+'//image_review_all.json'\n",
    "#with open(imagerev_path, 'r') as json_file:\n",
    "#    for line_number, line in enumerate(json_file,1):\n",
    "#        try:\n",
    "#            imagerev_data = json.loads(line)\n",
    "#            print(imagerev_data)\n",
    "#        except json.JSONDecodeError as err:\n",
    "#            print(f'Error decoding JSON: {err}')"
   ]
  },
  {
   "cell_type": "code",
   "execution_count": 4,
   "id": "41d722cd",
   "metadata": {},
   "outputs": [],
   "source": [
    "def getjson2(fname, maxno=-1):\n",
    "    data_list = list()\n",
    "    no = 0\n",
    "    with open(fname, 'r') as json_file:\n",
    "        for line_number, line in enumerate(json_file,1):\n",
    "            try:\n",
    "                imagerev_data = json.loads(line)\n",
    "                data_list.append(imagerev_data)\n",
    "                no += 1\n",
    "                if (maxno > -1) & (no >= maxno):\n",
    "                    break\n",
    "            except json.JSONDecodeError as err:\n",
    "                print(f'Error decoding JSON: {err}')\n",
    "        return data_list"
   ]
  },
  {
   "cell_type": "code",
   "execution_count": 5,
   "id": "fe7dc739",
   "metadata": {
    "scrolled": true
   },
   "outputs": [],
   "source": [
    "imagerev_data = getjson2(imagerev_path)"
   ]
  },
  {
   "cell_type": "code",
   "execution_count": 6,
   "id": "51fac27d",
   "metadata": {},
   "outputs": [],
   "source": [
    "json_filter_data = getjson2(filter_path)"
   ]
  },
  {
   "cell_type": "code",
   "execution_count": 7,
   "id": "04e3591f",
   "metadata": {},
   "outputs": [],
   "source": [
    "filter_df = pd.DataFrame(json_filter_data)\n",
    "imagerev_df = pd.DataFrame(imagerev_data)"
   ]
  },
  {
   "cell_type": "code",
   "execution_count": 8,
   "id": "187942c0",
   "metadata": {},
   "outputs": [
    {
     "data": {
      "text/html": [
       "<div>\n",
       "<style scoped>\n",
       "    .dataframe tbody tr th:only-of-type {\n",
       "        vertical-align: middle;\n",
       "    }\n",
       "\n",
       "    .dataframe tbody tr th {\n",
       "        vertical-align: top;\n",
       "    }\n",
       "\n",
       "    .dataframe thead th {\n",
       "        text-align: right;\n",
       "    }\n",
       "</style>\n",
       "<table border=\"1\" class=\"dataframe\">\n",
       "  <thead>\n",
       "    <tr style=\"text-align: right;\">\n",
       "      <th></th>\n",
       "      <th>business_id</th>\n",
       "      <th>user_id</th>\n",
       "      <th>rating</th>\n",
       "      <th>review_text</th>\n",
       "      <th>pics</th>\n",
       "    </tr>\n",
       "  </thead>\n",
       "  <tbody>\n",
       "    <tr>\n",
       "      <th>0</th>\n",
       "      <td>605730f68cd0e3d69a52284b</td>\n",
       "      <td>113890892872599852766</td>\n",
       "      <td>4</td>\n",
       "      <td>We came for a birthday brunch and this place i...</td>\n",
       "      <td>[{'id': 'AF1QipPrls2G30PS3tyC55KBxUrKgy3ER0AB5...</td>\n",
       "    </tr>\n",
       "    <tr>\n",
       "      <th>1</th>\n",
       "      <td>605730f68cd0e3d69a52284b</td>\n",
       "      <td>100158382312395993536</td>\n",
       "      <td>5</td>\n",
       "      <td>Cool place to hang out, have drinks.  There is...</td>\n",
       "      <td>[{'id': 'AF1QipPj8FEVZrdpTZmRdjoOtzQyfGYSwJ0Ub...</td>\n",
       "    </tr>\n",
       "    <tr>\n",
       "      <th>2</th>\n",
       "      <td>605730f68cd0e3d69a52284b</td>\n",
       "      <td>113495161718980109602</td>\n",
       "      <td>2</td>\n",
       "      <td>This place doesn’t rock the senses when it com...</td>\n",
       "      <td>[{'id': 'AF1QipOP5poDTRQ4XXIM11buv5x9Ae-BNXwcq...</td>\n",
       "    </tr>\n",
       "    <tr>\n",
       "      <th>3</th>\n",
       "      <td>605730f68cd0e3d69a52284b</td>\n",
       "      <td>111259544401075262963</td>\n",
       "      <td>3</td>\n",
       "      <td>Pretty cool place to hang out with friends and...</td>\n",
       "      <td>[{'id': 'AF1QipMq84NEaCMdQtfrELbudJdQbTILp_5I_...</td>\n",
       "    </tr>\n",
       "    <tr>\n",
       "      <th>4</th>\n",
       "      <td>605730f68cd0e3d69a52284b</td>\n",
       "      <td>104285463275063919410</td>\n",
       "      <td>5</td>\n",
       "      <td>We saw this place the other day when we had re...</td>\n",
       "      <td>[{'id': 'AF1QipOTCVzPHHWTiQO_2UZNVeG5KMbcki6d5...</td>\n",
       "    </tr>\n",
       "    <tr>\n",
       "      <th>...</th>\n",
       "      <td>...</td>\n",
       "      <td>...</td>\n",
       "      <td>...</td>\n",
       "      <td>...</td>\n",
       "      <td>...</td>\n",
       "    </tr>\n",
       "    <tr>\n",
       "      <th>1487742</th>\n",
       "      <td>60401a5466e8bd764351f091</td>\n",
       "      <td>107790040475008770577</td>\n",
       "      <td>5</td>\n",
       "      <td>Ordered the Chicken Tikka Masala and Chicken K...</td>\n",
       "      <td>[{'id': 'AF1QipPGxTrlMSpYMC5riNRB0lliBOkMdLHfU...</td>\n",
       "    </tr>\n",
       "    <tr>\n",
       "      <th>1487743</th>\n",
       "      <td>60401a5466e8bd764351f091</td>\n",
       "      <td>102318676431181796476</td>\n",
       "      <td>5</td>\n",
       "      <td>Great shrimp tikka masala. A little too much r...</td>\n",
       "      <td>[{'id': 'AF1QipOnpe7cvJ7vCYNBZVjZwCaY8JkxIhuIp...</td>\n",
       "    </tr>\n",
       "    <tr>\n",
       "      <th>1487744</th>\n",
       "      <td>60401a5466e8bd764351f091</td>\n",
       "      <td>115604769413521307669</td>\n",
       "      <td>4</td>\n",
       "      <td>Good food, great portions. The chicken I order...</td>\n",
       "      <td>[{'id': 'AF1QipOiqyQLlrJZ1cDNHnedTBqNUcnH-x0Fo...</td>\n",
       "    </tr>\n",
       "    <tr>\n",
       "      <th>1487745</th>\n",
       "      <td>60401a5466e8bd764351f091</td>\n",
       "      <td>101315114581473619145</td>\n",
       "      <td>4</td>\n",
       "      <td>Amazing is really good you guys should try it ...</td>\n",
       "      <td>[{'id': 'AF1QipPgzFbzmglj8tIeIU71pFsWE4slxI2Ax...</td>\n",
       "    </tr>\n",
       "    <tr>\n",
       "      <th>1487746</th>\n",
       "      <td>60401a5466e8bd764351f091</td>\n",
       "      <td>116057206044139721905</td>\n",
       "      <td>5</td>\n",
       "      <td>(Translated by Google) Excellent food, fair pr...</td>\n",
       "      <td>[{'id': 'AF1QipMLnu-Q6FY0LCiHAJIhDQfgtJGYsqt1R...</td>\n",
       "    </tr>\n",
       "  </tbody>\n",
       "</table>\n",
       "<p>1487747 rows × 5 columns</p>\n",
       "</div>"
      ],
      "text/plain": [
       "                      business_id                user_id  rating  \\\n",
       "0        605730f68cd0e3d69a52284b  113890892872599852766       4   \n",
       "1        605730f68cd0e3d69a52284b  100158382312395993536       5   \n",
       "2        605730f68cd0e3d69a52284b  113495161718980109602       2   \n",
       "3        605730f68cd0e3d69a52284b  111259544401075262963       3   \n",
       "4        605730f68cd0e3d69a52284b  104285463275063919410       5   \n",
       "...                           ...                    ...     ...   \n",
       "1487742  60401a5466e8bd764351f091  107790040475008770577       5   \n",
       "1487743  60401a5466e8bd764351f091  102318676431181796476       5   \n",
       "1487744  60401a5466e8bd764351f091  115604769413521307669       4   \n",
       "1487745  60401a5466e8bd764351f091  101315114581473619145       4   \n",
       "1487746  60401a5466e8bd764351f091  116057206044139721905       5   \n",
       "\n",
       "                                               review_text  \\\n",
       "0        We came for a birthday brunch and this place i...   \n",
       "1        Cool place to hang out, have drinks.  There is...   \n",
       "2        This place doesn’t rock the senses when it com...   \n",
       "3        Pretty cool place to hang out with friends and...   \n",
       "4        We saw this place the other day when we had re...   \n",
       "...                                                    ...   \n",
       "1487742  Ordered the Chicken Tikka Masala and Chicken K...   \n",
       "1487743  Great shrimp tikka masala. A little too much r...   \n",
       "1487744  Good food, great portions. The chicken I order...   \n",
       "1487745  Amazing is really good you guys should try it ...   \n",
       "1487746  (Translated by Google) Excellent food, fair pr...   \n",
       "\n",
       "                                                      pics  \n",
       "0        [{'id': 'AF1QipPrls2G30PS3tyC55KBxUrKgy3ER0AB5...  \n",
       "1        [{'id': 'AF1QipPj8FEVZrdpTZmRdjoOtzQyfGYSwJ0Ub...  \n",
       "2        [{'id': 'AF1QipOP5poDTRQ4XXIM11buv5x9Ae-BNXwcq...  \n",
       "3        [{'id': 'AF1QipMq84NEaCMdQtfrELbudJdQbTILp_5I_...  \n",
       "4        [{'id': 'AF1QipOTCVzPHHWTiQO_2UZNVeG5KMbcki6d5...  \n",
       "...                                                    ...  \n",
       "1487742  [{'id': 'AF1QipPGxTrlMSpYMC5riNRB0lliBOkMdLHfU...  \n",
       "1487743  [{'id': 'AF1QipOnpe7cvJ7vCYNBZVjZwCaY8JkxIhuIp...  \n",
       "1487744  [{'id': 'AF1QipOiqyQLlrJZ1cDNHnedTBqNUcnH-x0Fo...  \n",
       "1487745  [{'id': 'AF1QipPgzFbzmglj8tIeIU71pFsWE4slxI2Ax...  \n",
       "1487746  [{'id': 'AF1QipMLnu-Q6FY0LCiHAJIhDQfgtJGYsqt1R...  \n",
       "\n",
       "[1487747 rows x 5 columns]"
      ]
     },
     "execution_count": 8,
     "metadata": {},
     "output_type": "execute_result"
    }
   ],
   "source": [
    "imagerev_df"
   ]
  },
  {
   "cell_type": "markdown",
   "id": "f2edc65f",
   "metadata": {},
   "source": [
    "## Exploratory Data Analysis"
   ]
  },
  {
   "cell_type": "code",
   "execution_count": 9,
   "id": "7b0529d0",
   "metadata": {},
   "outputs": [
    {
     "data": {
      "text/plain": [
       "Text(0.5, 1.0, 'Distribution of 64527 businesses on 1487747 records')"
      ]
     },
     "execution_count": 9,
     "metadata": {},
     "output_type": "execute_result"
    },
    {
     "data": {
      "image/png": "[encoded data removed]",
      "text/plain": [
       "<Figure size 640x480 with 1 Axes>"
      ]
     },
     "metadata": {},
     "output_type": "display_data"
    }
   ],
   "source": [
    "#rating_counts = imagerev_df.groupby(\"business_id\").count()\n",
    "#bins = [0, 10, 20, 30, 40, 50, 100, 200, 300, 400, 500, 1000]  # Adjust bins as needed\n",
    "#labels = ['1-10', '11-20', '21-30', '31-40', '41-50', '51-100', '101-200', '201-300', '301-400', '401-500', '501-1000']\n",
    "#rating_counts['range'] = pd.cut(rating_counts, bins=bins, labels=labels, right=False)\n",
    "#range_counts = rating_counts['range'].value_counts().sort_index()\n",
    "\n",
    "#plt.figure(figsize = (10,6))\n",
    "#range_counts.plot(kind='bar')\n",
    "#plt.title('Distribution of Number of Ratings for Businesses')\n",
    "#plt.xlabel('Number of Ratings Range')\n",
    "#plt.ylabel('Frequency')\n",
    "#plt.xticks(rotation=45)\n",
    "#plt.show()\n",
    "dfgrpbusinesscnt = imagerev_df.groupby('business_id').count()\n",
    "dfgrpbusinesscnt['user_id'].hist(bins=100)\n",
    "plt.xlabel('No of Ratings')\n",
    "plt.ylabel('No of business')\n",
    "plt.title(f'Distribution of {dfgrpbusinesscnt.shape[0]} businesses on {imagerev_df.shape[0]} records')"
   ]
  },
  {
   "cell_type": "code",
   "execution_count": 10,
   "id": "bb69c5c4",
   "metadata": {},
   "outputs": [
    {
     "data": {
      "text/plain": [
       "868937"
      ]
     },
     "execution_count": 10,
     "metadata": {},
     "output_type": "execute_result"
    }
   ],
   "source": [
    "len(imagerev_df['user_id'].unique())"
   ]
  },
  {
   "cell_type": "code",
   "execution_count": 11,
   "id": "ade7f1b6",
   "metadata": {},
   "outputs": [
    {
     "data": {
      "text/plain": [
       "<AxesSubplot: >"
      ]
     },
     "execution_count": 11,
     "metadata": {},
     "output_type": "execute_result"
    },
    {
     "data": {
      "image/png": "[encoded data removed]",
      "text/plain": [
       "<Figure size 640x480 with 1 Axes>"
      ]
     },
     "metadata": {},
     "output_type": "display_data"
    }
   ],
   "source": [
    "dfgrpusercnt = imagerev_df.groupby('user_id').count()\n",
    "dfgrpusercnt['business_id'].hist(bins=100)"
   ]
  },
  {
   "cell_type": "code",
   "execution_count": 12,
   "id": "3328a580",
   "metadata": {},
   "outputs": [
    {
     "data": {
      "text/html": [
       "<div>\n",
       "<style scoped>\n",
       "    .dataframe tbody tr th:only-of-type {\n",
       "        vertical-align: middle;\n",
       "    }\n",
       "\n",
       "    .dataframe tbody tr th {\n",
       "        vertical-align: top;\n",
       "    }\n",
       "\n",
       "    .dataframe thead th {\n",
       "        text-align: right;\n",
       "    }\n",
       "</style>\n",
       "<table border=\"1\" class=\"dataframe\">\n",
       "  <thead>\n",
       "    <tr style=\"text-align: right;\">\n",
       "      <th></th>\n",
       "      <th>business_id</th>\n",
       "      <th>user_id</th>\n",
       "      <th>review_text</th>\n",
       "      <th>pics</th>\n",
       "    </tr>\n",
       "    <tr>\n",
       "      <th>rating</th>\n",
       "      <th></th>\n",
       "      <th></th>\n",
       "      <th></th>\n",
       "      <th></th>\n",
       "    </tr>\n",
       "  </thead>\n",
       "  <tbody>\n",
       "    <tr>\n",
       "      <th>1</th>\n",
       "      <td>58645</td>\n",
       "      <td>58645</td>\n",
       "      <td>58645</td>\n",
       "      <td>58645</td>\n",
       "    </tr>\n",
       "    <tr>\n",
       "      <th>2</th>\n",
       "      <td>38009</td>\n",
       "      <td>38009</td>\n",
       "      <td>38009</td>\n",
       "      <td>38009</td>\n",
       "    </tr>\n",
       "    <tr>\n",
       "      <th>3</th>\n",
       "      <td>88533</td>\n",
       "      <td>88533</td>\n",
       "      <td>88533</td>\n",
       "      <td>88533</td>\n",
       "    </tr>\n",
       "    <tr>\n",
       "      <th>4</th>\n",
       "      <td>289106</td>\n",
       "      <td>289106</td>\n",
       "      <td>289106</td>\n",
       "      <td>289106</td>\n",
       "    </tr>\n",
       "    <tr>\n",
       "      <th>5</th>\n",
       "      <td>1013454</td>\n",
       "      <td>1013454</td>\n",
       "      <td>1013454</td>\n",
       "      <td>1013454</td>\n",
       "    </tr>\n",
       "  </tbody>\n",
       "</table>\n",
       "</div>"
      ],
      "text/plain": [
       "        business_id  user_id  review_text     pics\n",
       "rating                                            \n",
       "1             58645    58645        58645    58645\n",
       "2             38009    38009        38009    38009\n",
       "3             88533    88533        88533    88533\n",
       "4            289106   289106       289106   289106\n",
       "5           1013454  1013454      1013454  1013454"
      ]
     },
     "execution_count": 12,
     "metadata": {},
     "output_type": "execute_result"
    }
   ],
   "source": [
    "dfgrpratingcnt = imagerev_df.groupby('rating').count()\n",
    "dfgrpratingcnt"
   ]
  },
  {
   "cell_type": "code",
   "execution_count": 13,
   "id": "76c5169e",
   "metadata": {},
   "outputs": [
    {
     "data": {
      "image/png": "[encoded data removed]",
      "text/plain": [
       "<Figure size 800x800 with 1 Axes>"
      ]
     },
     "metadata": {},
     "output_type": "display_data"
    }
   ],
   "source": [
    "import matplotlib.pyplot as plt\n",
    "\n",
    "ratings = list(dfgrpratingcnt['user_id'])\n",
    "labels = ['Rating '+str(i)  for i in dfgrpratingcnt.index]\n",
    "fig, ax = plt.subplots(figsize=(8, 8))\n",
    "plt.pie(ratings, labels=labels, autopct='%1.0f%%', startangle=0, \\\n",
    "        colors=['red', 'orange', 'yellow', 'green', 'lightblue'])\n",
    "plt.title('Business Ratings Distribution')\n",
    "plt.show()"
   ]
  },
  {
   "cell_type": "code",
   "execution_count": 14,
   "id": "37ee53aa",
   "metadata": {},
   "outputs": [
    {
     "data": {
      "image/png": "[encoded data removed]",
      "text/plain": [
       "<Figure size 640x480 with 2 Axes>"
      ]
     },
     "metadata": {},
     "output_type": "display_data"
    }
   ],
   "source": [
    "import numpy as np\n",
    "import matplotlib.pyplot as plt\n",
    "\n",
    "# Sample data: user-business ratings\n",
    "# Replace this with your actual data\n",
    "ratings_data = np.array([\n",
    "    [4, 3, 2, 5],\n",
    "    [2, 4, 3, 1],\n",
    "    [5, 1, 4, 2],\n",
    "    [3, 2, 5, 4]\n",
    "])\n",
    "\n",
    "# Set the color map for the heatmap\n",
    "cmap = plt.cm.RdYlGn\n",
    "\n",
    "# Create the heatmap\n",
    "plt.imshow(ratings_data, cmap=cmap, interpolation='nearest',\\\n",
    "           aspect='auto', vmin=1, vmax=5)\n",
    "\n",
    "# Add colorbar with integer ticks\n",
    "cbar = plt.colorbar(ticks=np.arange(1, 6), label='Rating')\n",
    "\n",
    "# Set axis labels and title\n",
    "plt.xlabel('Business')\n",
    "plt.ylabel('User')\n",
    "plt.title('User-Business Ratings Heatmap')\n",
    "\n",
    "# Set ticks and labels for axis\n",
    "plt.xticks(np.arange(ratings_data.shape[1]), ['Business 1', 'Business 2', 'Business 3', 'Business 4'])\n",
    "plt.yticks(np.arange(ratings_data.shape[0]), ['User 1', 'User 2', 'User 3', 'User 4'])\n",
    "\n",
    "# Display the heatmap\n",
    "plt.show()"
   ]
  },
  {
   "cell_type": "code",
   "execution_count": 15,
   "id": "cb4c0d4a",
   "metadata": {},
   "outputs": [
    {
     "data": {
      "text/html": [
       "<div>\n",
       "<style scoped>\n",
       "    .dataframe tbody tr th:only-of-type {\n",
       "        vertical-align: middle;\n",
       "    }\n",
       "\n",
       "    .dataframe tbody tr th {\n",
       "        vertical-align: top;\n",
       "    }\n",
       "\n",
       "    .dataframe thead th {\n",
       "        text-align: right;\n",
       "    }\n",
       "</style>\n",
       "<table border=\"1\" class=\"dataframe\">\n",
       "  <thead>\n",
       "    <tr style=\"text-align: right;\">\n",
       "      <th></th>\n",
       "      <th>u1</th>\n",
       "      <th>u2</th>\n",
       "    </tr>\n",
       "  </thead>\n",
       "  <tbody>\n",
       "    <tr>\n",
       "      <th>0</th>\n",
       "      <td>1</td>\n",
       "      <td>3</td>\n",
       "    </tr>\n",
       "    <tr>\n",
       "      <th>1</th>\n",
       "      <td>2</td>\n",
       "      <td>4</td>\n",
       "    </tr>\n",
       "    <tr>\n",
       "      <th>2</th>\n",
       "      <td>3</td>\n",
       "      <td>7</td>\n",
       "    </tr>\n",
       "    <tr>\n",
       "      <th>3</th>\n",
       "      <td>4</td>\n",
       "      <td>2</td>\n",
       "    </tr>\n",
       "    <tr>\n",
       "      <th>4</th>\n",
       "      <td>5</td>\n",
       "      <td>1</td>\n",
       "    </tr>\n",
       "  </tbody>\n",
       "</table>\n",
       "</div>"
      ],
      "text/plain": [
       "   u1  u2\n",
       "0   1   3\n",
       "1   2   4\n",
       "2   3   7\n",
       "3   4   2\n",
       "4   5   1"
      ]
     },
     "execution_count": 15,
     "metadata": {},
     "output_type": "execute_result"
    }
   ],
   "source": [
    "dft1 = pd.DataFrame({'u1':[1,2,3,4,5], 'u2':[3,4,7,2,1]})\n",
    "dft1"
   ]
  },
  {
   "cell_type": "code",
   "execution_count": 16,
   "id": "69c4fba3",
   "metadata": {},
   "outputs": [],
   "source": [
    "dfgrpuser=imagerev_df.groupby('user_id')"
   ]
  },
  {
   "cell_type": "code",
   "execution_count": 17,
   "id": "f03ede64",
   "metadata": {},
   "outputs": [],
   "source": [
    "topusrcnt = 10\n",
    "topusr = dfgrpusercnt['business_id'].\\\n",
    "            sort_values(ascending=False)[0:topusrcnt].index"
   ]
  },
  {
   "cell_type": "code",
   "execution_count": 18,
   "id": "3a6346da",
   "metadata": {},
   "outputs": [
    {
     "data": {
      "text/plain": [
       "Index(['100060262004832056023', '114607904590486797636',\n",
       "       '116396021024611789723', '113090154661790710275',\n",
       "       '111237841947380337726', '104819208193648646391',\n",
       "       '113060025517917819155', '108972208682479297190',\n",
       "       '100003947933664632255', '117495693473911053786'],\n",
       "      dtype='object', name='user_id')"
      ]
     },
     "execution_count": 18,
     "metadata": {},
     "output_type": "execute_result"
    }
   ],
   "source": [
    "topusr"
   ]
  },
  {
   "cell_type": "code",
   "execution_count": null,
   "id": "f8442d64",
   "metadata": {},
   "outputs": [],
   "source": []
  }
 ],
 "metadata": {
  "kernelspec": {
   "display_name": "Python 3 (ipykernel)",
   "language": "python",
   "name": "python3"
  },
  "language_info": {
   "codemirror_mode": {
    "name": "ipython",
    "version": 3
   },
   "file_extension": ".py",
   "mimetype": "text/x-python",
   "name": "python",
   "nbconvert_exporter": "python",
   "pygments_lexer": "ipython3",
   "version": "3.10.11"
  }
 },
 "nbformat": 4,
 "nbformat_minor": 5
}
