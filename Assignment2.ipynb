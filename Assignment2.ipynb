{
 "cells": [
  {
   "cell_type": "code",
   "execution_count": 1,
   "id": "6c731a92",
   "metadata": {},
   "outputs": [],
   "source": [
    "import gzip\n",
    "import zipfile\n",
    "import json\n",
    "from collections import defaultdict\n",
    "import math\n",
    "import scipy.optimize\n",
    "from sklearn import svm\n",
    "import numpy as np\n",
    "import pandas as pd\n",
    "import string\n",
    "import random\n",
    "import string\n",
    "from sklearn import linear_model\n",
    "path = \"C://niha//cse158//data\""
   ]
  },
  {
   "cell_type": "code",
   "execution_count": 6,
   "id": "677f12d4",
   "metadata": {},
   "outputs": [
    {
     "name": "stderr",
     "output_type": "stream",
     "text": [
      "IOPub data rate exceeded.\n",
      "The notebook server will temporarily stop sending output\n",
      "to the client in order to avoid crashing it.\n",
      "To change this limit, set the config variable\n",
      "`--NotebookApp.iopub_data_rate_limit`.\n",
      "\n",
      "Current values:\n",
      "NotebookApp.iopub_data_rate_limit=1000000.0 (bytes/sec)\n",
      "NotebookApp.rate_limit_window=3.0 (secs)\n",
      "\n"
     ]
    }
   ],
   "source": [
    "import json\n",
    " \n",
    "filter_path = path+'//filter_all_t.json'\n",
    " \n",
    "# Open and read the entire content of the JSON file\n",
    "with open(filter_path, 'r') as json_file:\n",
    "    filter_data_single_line = json_file.read()\n",
    " \n",
    "# Parse the JSON data\n",
    "try:\n",
    "    json_filter_data = json.loads(filter_data_single_line)\n",
    "    # Now you can work with the parsed JSON data\n",
    "    print(json_filter_data)\n",
    "except json.JSONDecodeError as err:\n",
    "    print(f'Error decoding JSON: {err}')\n",
    "    "
   ]
  },
  {
   "cell_type": "code",
   "execution_count": 11,
   "id": "1c21db4e",
   "metadata": {},
   "outputs": [
    {
     "name": "stderr",
     "output_type": "stream",
     "text": [
      "IOPub data rate exceeded.\n",
      "The notebook server will temporarily stop sending output\n",
      "to the client in order to avoid crashing it.\n",
      "To change this limit, set the config variable\n",
      "`--NotebookApp.iopub_data_rate_limit`.\n",
      "\n",
      "Current values:\n",
      "NotebookApp.iopub_data_rate_limit=1000000.0 (bytes/sec)\n",
      "NotebookApp.rate_limit_window=3.0 (secs)\n",
      "\n"
     ]
    }
   ],
   "source": [
    "imagerev_path = path+'//image_review_all.json'\n",
    "\n",
    "with open(imagerev_path, 'r') as json_file:\n",
    "    for line_number, line in enumerate(json_file,1):\n",
    "        try:\n",
    "            imagerev_data = json.loads(line)\n",
    "            print(imagerev_data)\n",
    "        except json.JSONDecodeError as err:\n",
    "            print(f'Error decoding JSON: {err}')"
   ]
  },
  {
   "cell_type": "code",
   "execution_count": 12,
   "id": "fe7dc739",
   "metadata": {},
   "outputs": [
    {
     "data": {
      "text/plain": [
       "{'business_id': '60567465d335d0abfb415b26',\n",
       " 'user_id': '101074926318992653684',\n",
       " 'rating': 4,\n",
       " 'review_text': 'The tang of the tomato sauce is outstanding. And the crust is a meal, as it should be. Order a whole pie fresh.',\n",
       " 'pics': ['AF1QipM-2IRmvitARbcJr7deWfe5hyVBg_ArPMQSYvq0',\n",
       "  'AF1QipPWhe1OP80YPU40J6-XIdxbJIe57vKm8TTjve31',\n",
       "  'AF1QipNuKWM65S9ZFQykvdIhKUliE6K1VBxssTUYyl8d',\n",
       "  'AF1QipOJng1JS_1hmpfhAVrr7hE89dcoOtdy-Z6cOO9x'],\n",
       " 'history_reviews': [['101074926318992653684_6056272797d555cc6fb0d147',\n",
       "   'The pizza here is the real deal, perfect in every way except for the crust, which was more cracker crisp than chewy bread. Also recommend the meatball parmigiana hero, beefy, fluffy, overflowing, tangy, chunky tomato sauce, toothsome bread.'],\n",
       "  ['101074926318992653684_604a65c2c6dc737bce7e5a3d',\n",
       "   'Omg the tomato sauce is everything, in the meatball appetizer, pizza & as a dip for that scratch-made focaccia. Farm-fresh salad. A variety of artisan toppings. Ask for the chili oil! Goes great with the focaccia bread.'],\n",
       "  ['101074926318992653684_60433b8d8be5d4454df9cc51',\n",
       "   'First time around last year, we stuck to eggs and Benedict, which were okay not outstanding. Ours included bleskiver, a delightful Danish pancake donut, crepe, and potato pancake with German sausage. The bleskiver is fluffy yet yeasty but not too sweet.'],\n",
       "  ['101074926318992653684_6055ebe4f69c7b117806fdaa',\n",
       "   'Food was lukewarm, including fried calamari.'],\n",
       "  ['101074926318992653684_6056ff1b8cd0e3d69a522681',\n",
       "   \"My favorite is the zeppole. I'd come here just for pasta fagiole & donuts.\"],\n",
       "  ['101074926318992653684_6056ff89f69c7b117807028c',\n",
       "   \"My vegan Prosciutto-wrapped dates, with a smoked Gouda filling, on Shakshuka sauce was quite a mouthful, deeply flavored, interesting, and slightly on the sweet side. My husband's Parmesan-crusted cauliflower with the whole gravy mashed potato treatment also went over well; he hardly missed the meat. I can't recommend the mac 'n cheese, frites, humuus, biscotti w/French pressed , everything enough.\"],\n",
       "  ['101074926318992653684_6042e523aab4c25a4e74c19c',\n",
       "   'Love the pillowy buns, juicy, grass-fed beef, crispy crinkle fries and thick, old-fashioned chocolate milkshake. We like to watch the ball game at Safeco while eating burgers, fries, and shakes, too.'],\n",
       "  ['101074926318992653684_604f26dd9755094ba8abe0df',\n",
       "   'I could eat the curry of the Butter Chicken alone. And the garlic naan bread is luscious, better than most other Indian restaurants. I just wish they used chicken thighs for a softer tender texture.'],\n",
       "  ['101074926318992653684_60496c68aaa2b0649c59bff5',\n",
       "   'Sushi & ramen are great -- if you can handle the bad service.'],\n",
       "  ['101074926318992653684_60528531d8c08f462b93e958',\n",
       "   \"He's the frontman who charmed us into trying our first legit Little Italy meal featuring something other than pizza. I might add more zing to some dishes, like the Caesar & the tomato sauce. Try the osso bucco & other, non-tomato-based pastas next time.\"],\n",
       "  ['101074926318992653684_604f27ab8ba95eba01a00b9c',\n",
       "   \"Pizza is great. Doughy bread. Meatballs needed more tomato sauce, less melted cheese (but the fluffy garlic bread is addictive). The homemade S'mores made up for the disappointment; they are insane with dark chocolate.\"]]}"
      ]
     },
     "execution_count": 12,
     "metadata": {},
     "output_type": "execute_result"
    }
   ],
   "source": [
    "json_filter_data['train'][0]"
   ]
  },
  {
   "cell_type": "code",
   "execution_count": 13,
   "id": "9a5771f1",
   "metadata": {},
   "outputs": [
    {
     "data": {
      "text/plain": [
       "{'business_id': '60401a5466e8bd764351f091',\n",
       " 'user_id': '116057206044139721905',\n",
       " 'rating': 5,\n",
       " 'review_text': '(Translated by Google) Excellent food, fair price\\n\\n(Original)\\nExcelente food, fair price',\n",
       " 'pics': [{'id': 'AF1QipMLnu-Q6FY0LCiHAJIhDQfgtJGYsqt1Rk2_cAW5',\n",
       "   'url': ['https://lh5.googleusercontent.com/p/AF1QipMLnu-Q6FY0LCiHAJIhDQfgtJGYsqt1Rk2_cAW5=w150-h150-k-no-p']}]}"
      ]
     },
     "execution_count": 13,
     "metadata": {},
     "output_type": "execute_result"
    }
   ],
   "source": [
    "imagerev_data"
   ]
  },
  {
   "cell_type": "code",
   "execution_count": 14,
   "id": "2bb87bd0",
   "metadata": {},
   "outputs": [
    {
     "ename": "NameError",
     "evalue": "name 'json_data' is not defined",
     "output_type": "error",
     "traceback": [
      "\u001b[1;31m---------------------------------------------------------------------------\u001b[0m",
      "\u001b[1;31mNameError\u001b[0m                                 Traceback (most recent call last)",
      "Cell \u001b[1;32mIn [14], line 1\u001b[0m\n\u001b[1;32m----> 1\u001b[0m \u001b[43mjson_data\u001b[49m\u001b[38;5;241m.\u001b[39mkeys()\n",
      "\u001b[1;31mNameError\u001b[0m: name 'json_data' is not defined"
     ]
    }
   ],
   "source": [
    "json_data.keys()"
   ]
  },
  {
   "cell_type": "code",
   "execution_count": null,
   "id": "e7e1bea1",
   "metadata": {},
   "outputs": [],
   "source": [
    "[len(json_data[i]) for i in json_data.keys()]"
   ]
  },
  {
   "cell_type": "code",
   "execution_count": null,
   "id": "ff21be5d",
   "metadata": {},
   "outputs": [],
   "source": []
  },
  {
   "cell_type": "code",
   "execution_count": null,
   "id": "04e3591f",
   "metadata": {},
   "outputs": [],
   "source": []
  }
 ],
 "metadata": {
  "kernelspec": {
   "display_name": "Python 3 (ipykernel)",
   "language": "python",
   "name": "python3"
  },
  "language_info": {
   "codemirror_mode": {
    "name": "ipython",
    "version": 3
   },
   "file_extension": ".py",
   "mimetype": "text/x-python",
   "name": "python",
   "nbconvert_exporter": "python",
   "pygments_lexer": "ipython3",
   "version": "3.10.11"
  }
 },
 "nbformat": 4,
 "nbformat_minor": 5
}
